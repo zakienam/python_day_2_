{
 "cells": [
  {
   "cell_type": "code",
   "execution_count": null,
   "id": "c3afd3b6-cb7b-4622-8535-4bb480811da8",
   "metadata": {},
   "outputs": [],
   "source": [
    "Introd"
   ]
  },
  {
   "cell_type": "code",
   "execution_count": null,
   "id": "5f6b29a2-4416-46c6-a551-4290045fa062",
   "metadata": {},
   "outputs": [],
   "source": [
    "Variables in python :"
   ]
  },
  {
   "cell_type": "code",
   "execution_count": 2,
   "id": "d43fe794-ff6f-499e-a596-9cdc01f6246f",
   "metadata": {},
   "outputs": [],
   "source": [
    "x = 5\n",
    "y = 2"
   ]
  },
  {
   "cell_type": "code",
   "execution_count": 3,
   "id": "d04d1aff-95ef-439b-802a-414d64446544",
   "metadata": {},
   "outputs": [
    {
     "name": "stdout",
     "output_type": "stream",
     "text": [
      "7\n"
     ]
    }
   ],
   "source": [
    "z = x+y\n",
    "print(z)"
   ]
  },
  {
   "cell_type": "code",
   "execution_count": 10,
   "id": "2efdf25a-28bf-4c41-aae2-795c542f661c",
   "metadata": {},
   "outputs": [
    {
     "name": "stdout",
     "output_type": "stream",
     "text": [
      "3\n"
     ]
    }
   ],
   "source": [
    "a = 1\n",
    "b = 2\n",
    "c = a+b\n",
    "print(c)"
   ]
  },
  {
   "cell_type": "code",
   "execution_count": null,
   "id": "8709b4b5-62fc-4ff7-bbcd-efa3c00af663",
   "metadata": {},
   "outputs": [],
   "source": [
    "Rules for declaring the variables:"
   ]
  },
  {
   "cell_type": "code",
   "execution_count": null,
   "id": "0c5b860f-8a35-4268-863d-c2117a9d9dc4",
   "metadata": {},
   "outputs": [],
   "source": [
    "Rule NO.1 : No Namespace While declaring the variable name"
   ]
  },
  {
   "cell_type": "code",
   "execution_count": null,
   "id": "06d39b30-efc6-4bdb-ad67-04606c273993",
   "metadata": {},
   "outputs": [],
   "source": [
    "first name = 'Zaki'    this will show error"
   ]
  },
  {
   "cell_type": "code",
   "execution_count": 15,
   "id": "1f928add-b566-4465-932a-685b2c4592c8",
   "metadata": {},
   "outputs": [
    {
     "name": "stdout",
     "output_type": "stream",
     "text": [
      "Zaki\n"
     ]
    }
   ],
   "source": [
    "firstname = 'Zaki'\n",
    "print(firstname)"
   ]
  },
  {
   "cell_type": "code",
   "execution_count": null,
   "id": "b507c280-5aa6-4129-a7bd-4c37e1990d9f",
   "metadata": {},
   "outputs": [],
   "source": [
    "Rule No.2 : A variable name should not start with a number  **"
   ]
  },
  {
   "cell_type": "code",
   "execution_count": null,
   "id": "ff1a1936-5d82-42cb-8a9c-5701f888e18e",
   "metadata": {},
   "outputs": [],
   "source": [
    "1name = \"Blabkberry\"     this will show error"
   ]
  },
  {
   "cell_type": "code",
   "execution_count": 16,
   "id": "603d9f3e-2d33-4f4b-9925-2b5ac3ed2ec9",
   "metadata": {},
   "outputs": [
    {
     "name": "stdout",
     "output_type": "stream",
     "text": [
      "Blabkberry\n"
     ]
    }
   ],
   "source": [
    "phone =  \"Blabkberry\"\n",
    "print(phone)"
   ]
  },
  {
   "cell_type": "code",
   "execution_count": 17,
   "id": "0e838ade-c30e-4a10-aaf3-627acc286a5b",
   "metadata": {},
   "outputs": [
    {
     "name": "stdout",
     "output_type": "stream",
     "text": [
      "lkdsuc\n"
     ]
    }
   ],
   "source": [
    "ab2c = \"lkdsuc\"\n",
    "print(ab2c)"
   ]
  },
  {
   "cell_type": "code",
   "execution_count": null,
   "id": "a747f7bb-7995-49b1-9fc8-56db1225bf95",
   "metadata": {},
   "outputs": [],
   "source": [
    "Rule No.3 : A variable name should not have any special character (@ # $ % & ^)"
   ]
  },
  {
   "cell_type": "code",
   "execution_count": 31,
   "id": "c8ac480f-d595-434f-b922-fe2e7c3616af",
   "metadata": {},
   "outputs": [
    {
     "ename": "SyntaxError",
     "evalue": "invalid syntax (204000938.py, line 1)",
     "output_type": "error",
     "traceback": [
      "\u001b[1;36m  Cell \u001b[1;32mIn[31], line 1\u001b[1;36m\u001b[0m\n\u001b[1;33m    name@ = \"abjba\"\u001b[0m\n\u001b[1;37m          ^\u001b[0m\n\u001b[1;31mSyntaxError\u001b[0m\u001b[1;31m:\u001b[0m invalid syntax\n"
     ]
    }
   ],
   "source": [
    "name@ = \"abjba\"         \n",
    "print(name@)"
   ]
  },
  {
   "cell_type": "code",
   "execution_count": null,
   "id": "a9567e9d-6242-4bc8-ae64-b50e7e77279b",
   "metadata": {},
   "outputs": [],
   "source": [
    " Introduction to datatype :\n",
    "   1. String ============> str\n",
    "   2. Numbers  (integers ===========> int and Floats (decimals ===> 0.1,0.2)) ===>float\n",
    "   3.lists ===> list\n",
    "   4.tuples ===> tuple\n",
    "   5.Dictionaries ====> dict"
   ]
  },
  {
   "cell_type": "code",
   "execution_count": null,
   "id": "d97e54ab-418d-4f12-8c32-cee4e05f769f",
   "metadata": {},
   "outputs": [],
   "source": [
    "Classification of datatypes :\n",
    "\n",
    "   Broadly datatypes are classfies into two categories :\n",
    "\n",
    "      1. Mutable datatype  ====> which we can edit/alter ===> flexible in nature\n",
    "      2. Immutable datatype  ===> which we cannot be able to edit/alter ===> fixed in nature"
   ]
  },
  {
   "cell_type": "code",
   "execution_count": null,
   "id": "49c45e61-e5a8-4523-b1e3-9b89f6f4b625",
   "metadata": {},
   "outputs": [],
   "source": [
    "Introduction to string datatype :\n",
    "\n",
    "defination :   A string is nothing but a series of character declared in quotes.\n",
    "\n",
    "classification : it classified as an immutable datatype.\n",
    "\n",
    "how to define string datatype :\n",
    "\n",
    "   1. single quotes\n",
    "   2. double quotes"
   ]
  },
  {
   "cell_type": "code",
   "execution_count": 36,
   "id": "55384209-1619-4d99-9f1f-faaeba4b8657",
   "metadata": {},
   "outputs": [
    {
     "name": "stdout",
     "output_type": "stream",
     "text": [
      "Naga Babu\n"
     ]
    }
   ],
   "source": [
    "name1 = 'Naga Babu'    # single quotes\n",
    "print(name1)"
   ]
  },
  {
   "cell_type": "code",
   "execution_count": 35,
   "id": "013d4bd3-68c2-41e7-a177-795347ad2069",
   "metadata": {},
   "outputs": [
    {
     "name": "stdout",
     "output_type": "stream",
     "text": [
      "Arjuuna\n"
     ]
    }
   ],
   "source": [
    "name2= \"Arjuuna\"           # double quotes\n",
    "print(name2)"
   ]
  },
  {
   "cell_type": "code",
   "execution_count": null,
   "id": "429f551d-45fc-4ff5-bb47-fe94b690815a",
   "metadata": {},
   "outputs": [],
   "source": [
    " Introduction to String methods :"
   ]
  },
  {
   "cell_type": "code",
   "execution_count": 37,
   "id": "fb3c977c-b3da-4982-bd7e-ed7c8d30a36a",
   "metadata": {},
   "outputs": [
    {
     "data": {
      "text/plain": [
       "str"
      ]
     },
     "execution_count": 37,
     "metadata": {},
     "output_type": "execute_result"
    }
   ],
   "source": [
    "type(name)"
   ]
  },
  {
   "cell_type": "code",
   "execution_count": 38,
   "id": "392c4d5d-5ac1-4509-8c0a-7c0c602e66da",
   "metadata": {},
   "outputs": [
    {
     "data": {
      "text/plain": [
       "str"
      ]
     },
     "execution_count": 38,
     "metadata": {},
     "output_type": "execute_result"
    }
   ],
   "source": [
    "type(name2)"
   ]
  },
  {
   "cell_type": "code",
   "execution_count": 39,
   "id": "0635067b-8934-4f57-af5c-51d6c6135741",
   "metadata": {},
   "outputs": [
    {
     "data": {
      "text/plain": [
       "int"
      ]
     },
     "execution_count": 39,
     "metadata": {},
     "output_type": "execute_result"
    }
   ],
   "source": [
    "type(123)"
   ]
  },
  {
   "cell_type": "code",
   "execution_count": 40,
   "id": "0633693a-7e59-429a-8784-84698e8b72e7",
   "metadata": {},
   "outputs": [
    {
     "data": {
      "text/plain": [
       "float"
      ]
     },
     "execution_count": 40,
     "metadata": {},
     "output_type": "execute_result"
    }
   ],
   "source": [
    "type(0.12)"
   ]
  },
  {
   "cell_type": "code",
   "execution_count": 44,
   "id": "87d11ac2-904e-4fa5-90ca-d27f59fbd576",
   "metadata": {},
   "outputs": [
    {
     "name": "stdout",
     "output_type": "stream",
     "text": [
      "joseph antony\n"
     ]
    }
   ],
   "source": [
    "fullname  = \"joseph antony\"\n",
    "print(fullname)"
   ]
  },
  {
   "cell_type": "code",
   "execution_count": 46,
   "id": "fc45796b-a704-42c6-b1a3-6fa1d8f72f60",
   "metadata": {},
   "outputs": [
    {
     "name": "stdout",
     "output_type": "stream",
     "text": [
      "Joseph Antony\n"
     ]
    }
   ],
   "source": [
    "print(fullname.title())   # title method"
   ]
  },
  {
   "cell_type": "code",
   "execution_count": 48,
   "id": "eaac028c-a763-4749-8f2c-58db70ebadf9",
   "metadata": {},
   "outputs": [
    {
     "name": "stdout",
     "output_type": "stream",
     "text": [
      "JOSEPH ANTONY\n"
     ]
    }
   ],
   "source": [
    "print(fullname.upper())    # upper method"
   ]
  },
  {
   "cell_type": "code",
   "execution_count": 51,
   "id": "123c5775-e934-4b77-add1-0bbfcd0048df",
   "metadata": {},
   "outputs": [
    {
     "name": "stdout",
     "output_type": "stream",
     "text": [
      "joseph antony\n"
     ]
    }
   ],
   "source": [
    "print(fullname.lower())   # lower method "
   ]
  },
  {
   "cell_type": "code",
   "execution_count": null,
   "id": "f73aabf3-37f7-4417-83d3-344ddfc2ac1e",
   "metadata": {},
   "outputs": [],
   "source": []
  },
  {
   "cell_type": "code",
   "execution_count": null,
   "id": "75d0f081-108d-4bd9-bdd5-d57ac4c27e24",
   "metadata": {},
   "outputs": [],
   "source": []
  }
 ],
 "metadata": {
  "kernelspec": {
   "display_name": "Python 3 (ipykernel)",
   "language": "python",
   "name": "python3"
  },
  "language_info": {
   "codemirror_mode": {
    "name": "ipython",
    "version": 3
   },
   "file_extension": ".py",
   "mimetype": "text/x-python",
   "name": "python",
   "nbconvert_exporter": "python",
   "pygments_lexer": "ipython3",
   "version": "3.11.7"
  }
 },
 "nbformat": 4,
 "nbformat_minor": 5
}
